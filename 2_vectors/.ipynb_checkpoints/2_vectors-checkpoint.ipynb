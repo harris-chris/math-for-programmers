{
 "cells": [
  {
   "cell_type": "code",
   "execution_count": 1,
   "id": "nonprofit-balance",
   "metadata": {},
   "outputs": [
    {
     "name": "stderr",
     "output_type": "stream",
     "text": [
      "\u001b[32m\u001b[1m   Updating\u001b[22m\u001b[39m registry at `~/.julia/registries/General`\n",
      "######################################################################### 100.0%\n",
      "\u001b[32m\u001b[1m  Resolving\u001b[22m\u001b[39m package versions...\n",
      "\u001b[32m\u001b[1mNo Changes\u001b[22m\u001b[39m to `~/.julia/environments/v1.5/Project.toml`\n",
      "\u001b[32m\u001b[1mNo Changes\u001b[22m\u001b[39m to `~/.julia/environments/v1.5/Manifest.toml`\n"
     ]
    }
   ],
   "source": [
    "using Pkg\n",
    "Pkg.add(\"Match\")"
   ]
  },
  {
   "cell_type": "code",
   "execution_count": 2,
   "id": "meaning-polls",
   "metadata": {},
   "outputs": [],
   "source": [
    "using Plots, Match"
   ]
  },
  {
   "cell_type": "code",
   "execution_count": 15,
   "id": "instant-preference",
   "metadata": {},
   "outputs": [
    {
     "data": {
      "text/plain": [
       "to_tuple (generic function with 1 method)"
      ]
     },
     "execution_count": 15,
     "metadata": {},
     "output_type": "execute_result"
    }
   ],
   "source": [
    "import Base: +, -, *, length\n",
    "\n",
    "struct Point\n",
    "    x::Int32\n",
    "    y::Int32\n",
    "end\n",
    "\n",
    "function -(p1::Point, p2::Point)\n",
    "    Point(p1.x - p2.x, p1.y - p2.y)\n",
    "end\n",
    "\n",
    "function +(p1::Point, p2::Point)\n",
    "    Point(p1.x + p2.x, p1.y + p2.y)\n",
    "end\n",
    "\n",
    "function *(p1::Point, p2::Point)\n",
    "    Point(p1.x **)\n",
    "\n",
    "function to_tuple(p::Point)::Tuple{Int32, Int32}\n",
    "    (p.x, p.y)\n",
    "end"
   ]
  },
  {
   "cell_type": "markdown",
   "id": "serial-kernel",
   "metadata": {},
   "source": [
    "### 2.4"
   ]
  },
  {
   "cell_type": "code",
   "execution_count": 16,
   "id": "humanitarian-delaware",
   "metadata": {},
   "outputs": [
    {
     "data": {
      "image/svg+xml": [
       "<?xml version=\"1.0\" encoding=\"utf-8\"?>\n",
       "<svg xmlns=\"http://www.w3.org/2000/svg\" xmlns:xlink=\"http://www.w3.org/1999/xlink\" width=\"600\" height=\"400\" viewBox=\"0 0 2400 1600\">\n",
       "<defs>\n",
       "  <clipPath id=\"clip420\">\n",
       "    <rect x=\"0\" y=\"0\" width=\"2400\" height=\"1600\"/>\n",
       "  </clipPath>\n",
       "</defs>\n",
       "<path clip-path=\"url(#clip420)\" d=\"\n",
       "M0 1600 L2400 1600 L2400 0 L0 0  Z\n",
       "  \" fill=\"#ffffff\" fill-rule=\"evenodd\" fill-opacity=\"1\"/>\n",
       "<defs>\n",
       "  <clipPath id=\"clip421\">\n",
       "    <rect x=\"480\" y=\"0\" width=\"1681\" height=\"1600\"/>\n",
       "  </clipPath>\n",
       "</defs>\n",
       "<path clip-path=\"url(#clip420)\" d=\"\n",
       "M144.168 1486.45 L2352.76 1486.45 L2352.76 47.2441 L144.168 47.2441  Z\n",
       "  \" fill=\"#ffffff\" fill-rule=\"evenodd\" fill-opacity=\"1\"/>\n",
       "<defs>\n",
       "  <clipPath id=\"clip422\">\n",
       "    <rect x=\"144\" y=\"47\" width=\"2210\" height=\"1440\"/>\n",
       "  </clipPath>\n",
       "</defs>\n",
       "<polyline clip-path=\"url(#clip422)\" style=\"stroke:#000000; stroke-width:2; stroke-opacity:0.1; fill:none\" points=\"\n",
       "  206.675,1486.45 206.675,47.2441 \n",
       "  \"/>\n",
       "<polyline clip-path=\"url(#clip422)\" style=\"stroke:#000000; stroke-width:2; stroke-opacity:0.1; fill:none\" points=\"\n",
       "  680.214,1486.45 680.214,47.2441 \n",
       "  \"/>\n",
       "<polyline clip-path=\"url(#clip422)\" style=\"stroke:#000000; stroke-width:2; stroke-opacity:0.1; fill:none\" points=\"\n",
       "  1153.75,1486.45 1153.75,47.2441 \n",
       "  \"/>\n",
       "<polyline clip-path=\"url(#clip422)\" style=\"stroke:#000000; stroke-width:2; stroke-opacity:0.1; fill:none\" points=\"\n",
       "  1627.29,1486.45 1627.29,47.2441 \n",
       "  \"/>\n",
       "<polyline clip-path=\"url(#clip422)\" style=\"stroke:#000000; stroke-width:2; stroke-opacity:0.1; fill:none\" points=\"\n",
       "  2100.83,1486.45 2100.83,47.2441 \n",
       "  \"/>\n",
       "<polyline clip-path=\"url(#clip420)\" style=\"stroke:#000000; stroke-width:4; stroke-opacity:1; fill:none\" points=\"\n",
       "  144.168,1486.45 2352.76,1486.45 \n",
       "  \"/>\n",
       "<polyline clip-path=\"url(#clip420)\" style=\"stroke:#000000; stroke-width:4; stroke-opacity:1; fill:none\" points=\"\n",
       "  206.675,1486.45 206.675,1469.18 \n",
       "  \"/>\n",
       "<polyline clip-path=\"url(#clip420)\" style=\"stroke:#000000; stroke-width:4; stroke-opacity:1; fill:none\" points=\"\n",
       "  680.214,1486.45 680.214,1469.18 \n",
       "  \"/>\n",
       "<polyline clip-path=\"url(#clip420)\" style=\"stroke:#000000; stroke-width:4; stroke-opacity:1; fill:none\" points=\"\n",
       "  1153.75,1486.45 1153.75,1469.18 \n",
       "  \"/>\n",
       "<polyline clip-path=\"url(#clip420)\" style=\"stroke:#000000; stroke-width:4; stroke-opacity:1; fill:none\" points=\"\n",
       "  1627.29,1486.45 1627.29,1469.18 \n",
       "  \"/>\n",
       "<polyline clip-path=\"url(#clip420)\" style=\"stroke:#000000; stroke-width:4; stroke-opacity:1; fill:none\" points=\"\n",
       "  2100.83,1486.45 2100.83,1469.18 \n",
       "  \"/>\n",
       "<path clip-path=\"url(#clip420)\" d=\"M 0 0 M160.344 1530.29 L190.02 1530.29 L190.02 1534.23 L160.344 1534.23 L160.344 1530.29 Z\" fill=\"#000000\" fill-rule=\"evenodd\" fill-opacity=\"1\" /><path clip-path=\"url(#clip420)\" d=\"M 0 0 M195.136 1512.56 L213.492 1512.56 L213.492 1516.5 L199.418 1516.5 L199.418 1524.97 Q200.437 1524.62 201.455 1524.46 Q202.474 1524.27 203.492 1524.27 Q209.279 1524.27 212.659 1527.44 Q216.038 1530.62 216.038 1536.03 Q216.038 1541.61 212.566 1544.71 Q209.094 1547.79 202.775 1547.79 Q200.599 1547.79 198.33 1547.42 Q196.085 1547.05 193.677 1546.31 L193.677 1541.61 Q195.761 1542.74 197.983 1543.3 Q200.205 1543.86 202.682 1543.86 Q206.687 1543.86 209.024 1541.75 Q211.362 1539.64 211.362 1536.03 Q211.362 1532.42 209.024 1530.31 Q206.687 1528.21 202.682 1528.21 Q200.807 1528.21 198.932 1528.62 Q197.08 1529.04 195.136 1529.92 L195.136 1512.56 Z\" fill=\"#000000\" fill-rule=\"evenodd\" fill-opacity=\"1\" /><path clip-path=\"url(#clip420)\" d=\"M 0 0 M221.108 1541.24 L225.992 1541.24 L225.992 1547.12 L221.108 1547.12 L221.108 1541.24 Z\" fill=\"#000000\" fill-rule=\"evenodd\" fill-opacity=\"1\" /><path clip-path=\"url(#clip420)\" d=\"M 0 0 M241.061 1515.64 Q237.45 1515.64 235.622 1519.2 Q233.816 1522.75 233.816 1529.87 Q233.816 1536.98 235.622 1540.55 Q237.45 1544.09 241.061 1544.09 Q244.696 1544.09 246.501 1540.55 Q248.33 1536.98 248.33 1529.87 Q248.33 1522.75 246.501 1519.2 Q244.696 1515.64 241.061 1515.64 M241.061 1511.93 Q246.872 1511.93 249.927 1516.54 Q253.006 1521.12 253.006 1529.87 Q253.006 1538.6 249.927 1543.21 Q246.872 1547.79 241.061 1547.79 Q235.251 1547.79 232.173 1543.21 Q229.117 1538.6 229.117 1529.87 Q229.117 1521.12 232.173 1516.54 Q235.251 1511.93 241.061 1511.93 Z\" fill=\"#000000\" fill-rule=\"evenodd\" fill-opacity=\"1\" /><path clip-path=\"url(#clip420)\" d=\"M 0 0 M634.682 1530.29 L664.358 1530.29 L664.358 1534.23 L634.682 1534.23 L634.682 1530.29 Z\" fill=\"#000000\" fill-rule=\"evenodd\" fill-opacity=\"1\" /><path clip-path=\"url(#clip420)\" d=\"M 0 0 M673.455 1543.18 L689.775 1543.18 L689.775 1547.12 L667.83 1547.12 L667.83 1543.18 Q670.492 1540.43 675.076 1535.8 Q679.682 1531.15 680.863 1529.81 Q683.108 1527.28 683.988 1525.55 Q684.89 1523.79 684.89 1522.1 Q684.89 1519.34 682.946 1517.61 Q681.025 1515.87 677.923 1515.87 Q675.724 1515.87 673.27 1516.63 Q670.839 1517.4 668.062 1518.95 L668.062 1514.23 Q670.886 1513.09 673.339 1512.51 Q675.793 1511.93 677.83 1511.93 Q683.201 1511.93 686.395 1514.62 Q689.589 1517.31 689.589 1521.8 Q689.589 1523.93 688.779 1525.85 Q687.992 1527.74 685.886 1530.34 Q685.307 1531.01 682.205 1534.23 Q679.103 1537.42 673.455 1543.18 Z\" fill=\"#000000\" fill-rule=\"evenodd\" fill-opacity=\"1\" /><path clip-path=\"url(#clip420)\" d=\"M 0 0 M694.844 1541.24 L699.728 1541.24 L699.728 1547.12 L694.844 1547.12 L694.844 1541.24 Z\" fill=\"#000000\" fill-rule=\"evenodd\" fill-opacity=\"1\" /><path clip-path=\"url(#clip420)\" d=\"M 0 0 M704.844 1512.56 L723.2 1512.56 L723.2 1516.5 L709.126 1516.5 L709.126 1524.97 Q710.145 1524.62 711.163 1524.46 Q712.182 1524.27 713.2 1524.27 Q718.987 1524.27 722.367 1527.44 Q725.747 1530.62 725.747 1536.03 Q725.747 1541.61 722.274 1544.71 Q718.802 1547.79 712.483 1547.79 Q710.307 1547.79 708.038 1547.42 Q705.793 1547.05 703.386 1546.31 L703.386 1541.61 Q705.469 1542.74 707.691 1543.3 Q709.913 1543.86 712.39 1543.86 Q716.395 1543.86 718.733 1541.75 Q721.071 1539.64 721.071 1536.03 Q721.071 1532.42 718.733 1530.31 Q716.395 1528.21 712.39 1528.21 Q710.515 1528.21 708.64 1528.62 Q706.788 1529.04 704.844 1529.92 L704.844 1512.56 Z\" fill=\"#000000\" fill-rule=\"evenodd\" fill-opacity=\"1\" /><path clip-path=\"url(#clip420)\" d=\"M 0 0 M1135.27 1515.64 Q1131.66 1515.64 1129.83 1519.2 Q1128.02 1522.75 1128.02 1529.87 Q1128.02 1536.98 1129.83 1540.55 Q1131.66 1544.09 1135.27 1544.09 Q1138.9 1544.09 1140.71 1540.55 Q1142.54 1536.98 1142.54 1529.87 Q1142.54 1522.75 1140.71 1519.2 Q1138.9 1515.64 1135.27 1515.64 M1135.27 1511.93 Q1141.08 1511.93 1144.14 1516.54 Q1147.21 1521.12 1147.21 1529.87 Q1147.21 1538.6 1144.14 1543.21 Q1141.08 1547.79 1135.27 1547.79 Q1129.46 1547.79 1126.38 1543.21 Q1123.33 1538.6 1123.33 1529.87 Q1123.33 1521.12 1126.38 1516.54 Q1129.46 1511.93 1135.27 1511.93 Z\" fill=\"#000000\" fill-rule=\"evenodd\" fill-opacity=\"1\" /><path clip-path=\"url(#clip420)\" d=\"M 0 0 M1152.28 1541.24 L1157.17 1541.24 L1157.17 1547.12 L1152.28 1547.12 L1152.28 1541.24 Z\" fill=\"#000000\" fill-rule=\"evenodd\" fill-opacity=\"1\" /><path clip-path=\"url(#clip420)\" d=\"M 0 0 M1172.24 1515.64 Q1168.63 1515.64 1166.8 1519.2 Q1164.99 1522.75 1164.99 1529.87 Q1164.99 1536.98 1166.8 1540.55 Q1168.63 1544.09 1172.24 1544.09 Q1175.87 1544.09 1177.68 1540.55 Q1179.51 1536.98 1179.51 1529.87 Q1179.51 1522.75 1177.68 1519.2 Q1175.87 1515.64 1172.24 1515.64 M1172.24 1511.93 Q1178.05 1511.93 1181.1 1516.54 Q1184.18 1521.12 1184.18 1529.87 Q1184.18 1538.6 1181.1 1543.21 Q1178.05 1547.79 1172.24 1547.79 Q1166.43 1547.79 1163.35 1543.21 Q1160.29 1538.6 1160.29 1529.87 Q1160.29 1521.12 1163.35 1516.54 Q1166.43 1511.93 1172.24 1511.93 Z\" fill=\"#000000\" fill-rule=\"evenodd\" fill-opacity=\"1\" /><path clip-path=\"url(#clip420)\" d=\"M 0 0 M1603.96 1543.18 L1620.28 1543.18 L1620.28 1547.12 L1598.34 1547.12 L1598.34 1543.18 Q1601 1540.43 1605.58 1535.8 Q1610.19 1531.15 1611.37 1529.81 Q1613.61 1527.28 1614.49 1525.55 Q1615.4 1523.79 1615.4 1522.1 Q1615.4 1519.34 1613.45 1517.61 Q1611.53 1515.87 1608.43 1515.87 Q1606.23 1515.87 1603.78 1516.63 Q1601.34 1517.4 1598.57 1518.95 L1598.57 1514.23 Q1601.39 1513.09 1603.84 1512.51 Q1606.3 1511.93 1608.34 1511.93 Q1613.71 1511.93 1616.9 1514.62 Q1620.09 1517.31 1620.09 1521.8 Q1620.09 1523.93 1619.28 1525.85 Q1618.5 1527.74 1616.39 1530.34 Q1615.81 1531.01 1612.71 1534.23 Q1609.61 1537.42 1603.96 1543.18 Z\" fill=\"#000000\" fill-rule=\"evenodd\" fill-opacity=\"1\" /><path clip-path=\"url(#clip420)\" d=\"M 0 0 M1625.35 1541.24 L1630.23 1541.24 L1630.23 1547.12 L1625.35 1547.12 L1625.35 1541.24 Z\" fill=\"#000000\" fill-rule=\"evenodd\" fill-opacity=\"1\" /><path clip-path=\"url(#clip420)\" d=\"M 0 0 M1635.35 1512.56 L1653.71 1512.56 L1653.71 1516.5 L1639.63 1516.5 L1639.63 1524.97 Q1640.65 1524.62 1641.67 1524.46 Q1642.69 1524.27 1643.71 1524.27 Q1649.49 1524.27 1652.87 1527.44 Q1656.25 1530.62 1656.25 1536.03 Q1656.25 1541.61 1652.78 1544.71 Q1649.31 1547.79 1642.99 1547.79 Q1640.81 1547.79 1638.54 1547.42 Q1636.3 1547.05 1633.89 1546.31 L1633.89 1541.61 Q1635.97 1542.74 1638.2 1543.3 Q1640.42 1543.86 1642.9 1543.86 Q1646.9 1543.86 1649.24 1541.75 Q1651.58 1539.64 1651.58 1536.03 Q1651.58 1532.42 1649.24 1530.31 Q1646.9 1528.21 1642.9 1528.21 Q1641.02 1528.21 1639.15 1528.62 Q1637.29 1529.04 1635.35 1529.92 L1635.35 1512.56 Z\" fill=\"#000000\" fill-rule=\"evenodd\" fill-opacity=\"1\" /><path clip-path=\"url(#clip420)\" d=\"M 0 0 M2072.63 1512.56 L2090.98 1512.56 L2090.98 1516.5 L2076.91 1516.5 L2076.91 1524.97 Q2077.93 1524.62 2078.95 1524.46 Q2079.96 1524.27 2080.98 1524.27 Q2086.77 1524.27 2090.15 1527.44 Q2093.53 1530.62 2093.53 1536.03 Q2093.53 1541.61 2090.06 1544.71 Q2086.59 1547.79 2080.27 1547.79 Q2078.09 1547.79 2075.82 1547.42 Q2073.58 1547.05 2071.17 1546.31 L2071.17 1541.61 Q2073.25 1542.74 2075.47 1543.3 Q2077.7 1543.86 2080.17 1543.86 Q2084.18 1543.86 2086.52 1541.75 Q2088.85 1539.64 2088.85 1536.03 Q2088.85 1532.42 2086.52 1530.31 Q2084.18 1528.21 2080.17 1528.21 Q2078.3 1528.21 2076.42 1528.62 Q2074.57 1529.04 2072.63 1529.92 L2072.63 1512.56 Z\" fill=\"#000000\" fill-rule=\"evenodd\" fill-opacity=\"1\" /><path clip-path=\"url(#clip420)\" d=\"M 0 0 M2098.6 1541.24 L2103.48 1541.24 L2103.48 1547.12 L2098.6 1547.12 L2098.6 1541.24 Z\" fill=\"#000000\" fill-rule=\"evenodd\" fill-opacity=\"1\" /><path clip-path=\"url(#clip420)\" d=\"M 0 0 M2118.55 1515.64 Q2114.94 1515.64 2113.11 1519.2 Q2111.31 1522.75 2111.31 1529.87 Q2111.31 1536.98 2113.11 1540.55 Q2114.94 1544.09 2118.55 1544.09 Q2122.19 1544.09 2123.99 1540.55 Q2125.82 1536.98 2125.82 1529.87 Q2125.82 1522.75 2123.99 1519.2 Q2122.19 1515.64 2118.55 1515.64 M2118.55 1511.93 Q2124.36 1511.93 2127.42 1516.54 Q2130.5 1521.12 2130.5 1529.87 Q2130.5 1538.6 2127.42 1543.21 Q2124.36 1547.79 2118.55 1547.79 Q2112.74 1547.79 2109.66 1543.21 Q2106.61 1538.6 2106.61 1529.87 Q2106.61 1521.12 2109.66 1516.54 Q2112.74 1511.93 2118.55 1511.93 Z\" fill=\"#000000\" fill-rule=\"evenodd\" fill-opacity=\"1\" /><polyline clip-path=\"url(#clip422)\" style=\"stroke:#000000; stroke-width:2; stroke-opacity:0.1; fill:none\" points=\"\n",
       "  144.168,1445.72 2352.76,1445.72 \n",
       "  \"/>\n",
       "<polyline clip-path=\"url(#clip422)\" style=\"stroke:#000000; stroke-width:2; stroke-opacity:0.1; fill:none\" points=\"\n",
       "  144.168,1144 2352.76,1144 \n",
       "  \"/>\n",
       "<polyline clip-path=\"url(#clip422)\" style=\"stroke:#000000; stroke-width:2; stroke-opacity:0.1; fill:none\" points=\"\n",
       "  144.168,842.276 2352.76,842.276 \n",
       "  \"/>\n",
       "<polyline clip-path=\"url(#clip422)\" style=\"stroke:#000000; stroke-width:2; stroke-opacity:0.1; fill:none\" points=\"\n",
       "  144.168,540.556 2352.76,540.556 \n",
       "  \"/>\n",
       "<polyline clip-path=\"url(#clip422)\" style=\"stroke:#000000; stroke-width:2; stroke-opacity:0.1; fill:none\" points=\"\n",
       "  144.168,238.836 2352.76,238.836 \n",
       "  \"/>\n",
       "<polyline clip-path=\"url(#clip420)\" style=\"stroke:#000000; stroke-width:4; stroke-opacity:1; fill:none\" points=\"\n",
       "  144.168,1486.45 144.168,47.2441 \n",
       "  \"/>\n",
       "<polyline clip-path=\"url(#clip420)\" style=\"stroke:#000000; stroke-width:4; stroke-opacity:1; fill:none\" points=\"\n",
       "  144.168,1445.72 170.671,1445.72 \n",
       "  \"/>\n",
       "<polyline clip-path=\"url(#clip420)\" style=\"stroke:#000000; stroke-width:4; stroke-opacity:1; fill:none\" points=\"\n",
       "  144.168,1144 170.671,1144 \n",
       "  \"/>\n",
       "<polyline clip-path=\"url(#clip420)\" style=\"stroke:#000000; stroke-width:4; stroke-opacity:1; fill:none\" points=\"\n",
       "  144.168,842.276 170.671,842.276 \n",
       "  \"/>\n",
       "<polyline clip-path=\"url(#clip420)\" style=\"stroke:#000000; stroke-width:4; stroke-opacity:1; fill:none\" points=\"\n",
       "  144.168,540.556 170.671,540.556 \n",
       "  \"/>\n",
       "<polyline clip-path=\"url(#clip420)\" style=\"stroke:#000000; stroke-width:4; stroke-opacity:1; fill:none\" points=\"\n",
       "  144.168,238.836 170.671,238.836 \n",
       "  \"/>\n",
       "<path clip-path=\"url(#clip420)\" d=\"M 0 0 M50.9921 1446.17 L80.6679 1446.17 L80.6679 1450.1 L50.9921 1450.1 L50.9921 1446.17 Z\" fill=\"#000000\" fill-rule=\"evenodd\" fill-opacity=\"1\" /><path clip-path=\"url(#clip420)\" d=\"M 0 0 M98.5845 1432.51 L86.779 1450.96 L98.5845 1450.96 L98.5845 1432.51 M97.3576 1428.44 L103.237 1428.44 L103.237 1450.96 L108.168 1450.96 L108.168 1454.85 L103.237 1454.85 L103.237 1463 L98.5845 1463 L98.5845 1454.85 L82.9827 1454.85 L82.9827 1450.33 L97.3576 1428.44 Z\" fill=\"#000000\" fill-rule=\"evenodd\" fill-opacity=\"1\" /><path clip-path=\"url(#clip420)\" d=\"M 0 0 M53.0754 1144.45 L82.7512 1144.45 L82.7512 1148.38 L53.0754 1148.38 L53.0754 1144.45 Z\" fill=\"#000000\" fill-rule=\"evenodd\" fill-opacity=\"1\" /><path clip-path=\"url(#clip420)\" d=\"M 0 0 M91.8484 1157.34 L108.168 1157.34 L108.168 1161.28 L86.2234 1161.28 L86.2234 1157.34 Q88.8854 1154.59 93.4688 1149.96 Q98.0752 1145.3 99.2558 1143.96 Q101.501 1141.44 102.381 1139.7 Q103.284 1137.94 103.284 1136.25 Q103.284 1133.5 101.339 1131.76 Q99.4178 1130.03 96.316 1130.03 Q94.1169 1130.03 91.6632 1130.79 Q89.2327 1131.55 86.4549 1133.1 L86.4549 1128.38 Q89.279 1127.25 91.7326 1126.67 Q94.1863 1126.09 96.2234 1126.09 Q101.594 1126.09 104.788 1128.78 Q107.983 1131.46 107.983 1135.95 Q107.983 1138.08 107.172 1140 Q106.385 1141.9 104.279 1144.49 Q103.7 1145.16 100.598 1148.38 Q97.4965 1151.58 91.8484 1157.34 Z\" fill=\"#000000\" fill-rule=\"evenodd\" fill-opacity=\"1\" /><path clip-path=\"url(#clip420)\" d=\"M 0 0 M96.2234 828.075 Q92.6123 828.075 90.7836 831.639 Q88.978 835.181 88.978 842.311 Q88.978 849.417 90.7836 852.982 Q92.6123 856.524 96.2234 856.524 Q99.8576 856.524 101.663 852.982 Q103.492 849.417 103.492 842.311 Q103.492 835.181 101.663 831.639 Q99.8576 828.075 96.2234 828.075 M96.2234 824.371 Q102.034 824.371 105.089 828.977 Q108.168 833.561 108.168 842.311 Q108.168 851.037 105.089 855.644 Q102.034 860.227 96.2234 860.227 Q90.4132 860.227 87.3345 855.644 Q84.279 851.037 84.279 842.311 Q84.279 833.561 87.3345 828.977 Q90.4132 824.371 96.2234 824.371 Z\" fill=\"#000000\" fill-rule=\"evenodd\" fill-opacity=\"1\" /><path clip-path=\"url(#clip420)\" d=\"M 0 0 M91.8484 553.901 L108.168 553.901 L108.168 557.836 L86.2234 557.836 L86.2234 553.901 Q88.8854 551.146 93.4688 546.517 Q98.0752 541.864 99.2558 540.521 Q101.501 537.998 102.381 536.262 Q103.284 534.503 103.284 532.813 Q103.284 530.058 101.339 528.322 Q99.4178 526.586 96.316 526.586 Q94.1169 526.586 91.6632 527.35 Q89.2327 528.114 86.4549 529.665 L86.4549 524.943 Q89.279 523.808 91.7326 523.23 Q94.1863 522.651 96.2234 522.651 Q101.594 522.651 104.788 525.336 Q107.983 528.021 107.983 532.512 Q107.983 534.642 107.172 536.563 Q106.385 538.461 104.279 541.054 Q103.7 541.725 100.598 544.943 Q97.4965 548.137 91.8484 553.901 Z\" fill=\"#000000\" fill-rule=\"evenodd\" fill-opacity=\"1\" /><path clip-path=\"url(#clip420)\" d=\"M 0 0 M98.5845 225.63 L86.779 244.079 L98.5845 244.079 L98.5845 225.63 M97.3576 221.556 L103.237 221.556 L103.237 244.079 L108.168 244.079 L108.168 247.968 L103.237 247.968 L103.237 256.116 L98.5845 256.116 L98.5845 247.968 L82.9827 247.968 L82.9827 243.454 L97.3576 221.556 Z\" fill=\"#000000\" fill-rule=\"evenodd\" fill-opacity=\"1\" /><circle clip-path=\"url(#clip422)\" cx=\"2290.25\" cy=\"238.836\" r=\"14\" fill=\"#009af9\" fill-rule=\"evenodd\" fill-opacity=\"1\" stroke=\"#000000\" stroke-opacity=\"1\" stroke-width=\"3.2\"/>\n",
       "<circle clip-path=\"url(#clip422)\" cx=\"1722\" cy=\"691.416\" r=\"14\" fill=\"#009af9\" fill-rule=\"evenodd\" fill-opacity=\"1\" stroke=\"#000000\" stroke-opacity=\"1\" stroke-width=\"3.2\"/>\n",
       "<circle clip-path=\"url(#clip422)\" cx=\"1343.17\" cy=\"540.556\" r=\"14\" fill=\"#009af9\" fill-rule=\"evenodd\" fill-opacity=\"1\" stroke=\"#000000\" stroke-opacity=\"1\" stroke-width=\"3.2\"/>\n",
       "<circle clip-path=\"url(#clip422)\" cx=\"964.338\" cy=\"87.9763\" r=\"14\" fill=\"#009af9\" fill-rule=\"evenodd\" fill-opacity=\"1\" stroke=\"#000000\" stroke-opacity=\"1\" stroke-width=\"3.2\"/>\n",
       "<circle clip-path=\"url(#clip422)\" cx=\"774.922\" cy=\"87.9763\" r=\"14\" fill=\"#009af9\" fill-rule=\"evenodd\" fill-opacity=\"1\" stroke=\"#000000\" stroke-opacity=\"1\" stroke-width=\"3.2\"/>\n",
       "<circle clip-path=\"url(#clip422)\" cx=\"585.507\" cy=\"238.836\" r=\"14\" fill=\"#009af9\" fill-rule=\"evenodd\" fill-opacity=\"1\" stroke=\"#000000\" stroke-opacity=\"1\" stroke-width=\"3.2\"/>\n",
       "<circle clip-path=\"url(#clip422)\" cx=\"396.091\" cy=\"238.836\" r=\"14\" fill=\"#009af9\" fill-rule=\"evenodd\" fill-opacity=\"1\" stroke=\"#000000\" stroke-opacity=\"1\" stroke-width=\"3.2\"/>\n",
       "<circle clip-path=\"url(#clip422)\" cx=\"206.675\" cy=\"389.696\" r=\"14\" fill=\"#009af9\" fill-rule=\"evenodd\" fill-opacity=\"1\" stroke=\"#000000\" stroke-opacity=\"1\" stroke-width=\"3.2\"/>\n",
       "<circle clip-path=\"url(#clip422)\" cx=\"206.675\" cy=\"540.556\" r=\"14\" fill=\"#009af9\" fill-rule=\"evenodd\" fill-opacity=\"1\" stroke=\"#000000\" stroke-opacity=\"1\" stroke-width=\"3.2\"/>\n",
       "<circle clip-path=\"url(#clip422)\" cx=\"774.922\" cy=\"540.556\" r=\"14\" fill=\"#009af9\" fill-rule=\"evenodd\" fill-opacity=\"1\" stroke=\"#000000\" stroke-opacity=\"1\" stroke-width=\"3.2\"/>\n",
       "<circle clip-path=\"url(#clip422)\" cx=\"206.675\" cy=\"691.416\" r=\"14\" fill=\"#009af9\" fill-rule=\"evenodd\" fill-opacity=\"1\" stroke=\"#000000\" stroke-opacity=\"1\" stroke-width=\"3.2\"/>\n",
       "<circle clip-path=\"url(#clip422)\" cx=\"396.091\" cy=\"842.276\" r=\"14\" fill=\"#009af9\" fill-rule=\"evenodd\" fill-opacity=\"1\" stroke=\"#000000\" stroke-opacity=\"1\" stroke-width=\"3.2\"/>\n",
       "<circle clip-path=\"url(#clip422)\" cx=\"774.922\" cy=\"691.416\" r=\"14\" fill=\"#009af9\" fill-rule=\"evenodd\" fill-opacity=\"1\" stroke=\"#000000\" stroke-opacity=\"1\" stroke-width=\"3.2\"/>\n",
       "<circle clip-path=\"url(#clip422)\" cx=\"964.338\" cy=\"842.276\" r=\"14\" fill=\"#009af9\" fill-rule=\"evenodd\" fill-opacity=\"1\" stroke=\"#000000\" stroke-opacity=\"1\" stroke-width=\"3.2\"/>\n",
       "<circle clip-path=\"url(#clip422)\" cx=\"1153.75\" cy=\"1294.86\" r=\"14\" fill=\"#009af9\" fill-rule=\"evenodd\" fill-opacity=\"1\" stroke=\"#000000\" stroke-opacity=\"1\" stroke-width=\"3.2\"/>\n",
       "<circle clip-path=\"url(#clip422)\" cx=\"964.338\" cy=\"1445.72\" r=\"14\" fill=\"#009af9\" fill-rule=\"evenodd\" fill-opacity=\"1\" stroke=\"#000000\" stroke-opacity=\"1\" stroke-width=\"3.2\"/>\n",
       "<circle clip-path=\"url(#clip422)\" cx=\"1343.17\" cy=\"1445.72\" r=\"14\" fill=\"#009af9\" fill-rule=\"evenodd\" fill-opacity=\"1\" stroke=\"#000000\" stroke-opacity=\"1\" stroke-width=\"3.2\"/>\n",
       "<circle clip-path=\"url(#clip422)\" cx=\"1532.59\" cy=\"1294.86\" r=\"14\" fill=\"#009af9\" fill-rule=\"evenodd\" fill-opacity=\"1\" stroke=\"#000000\" stroke-opacity=\"1\" stroke-width=\"3.2\"/>\n",
       "<circle clip-path=\"url(#clip422)\" cx=\"1343.17\" cy=\"1144\" r=\"14\" fill=\"#009af9\" fill-rule=\"evenodd\" fill-opacity=\"1\" stroke=\"#000000\" stroke-opacity=\"1\" stroke-width=\"3.2\"/>\n",
       "<circle clip-path=\"url(#clip422)\" cx=\"1722\" cy=\"993.136\" r=\"14\" fill=\"#009af9\" fill-rule=\"evenodd\" fill-opacity=\"1\" stroke=\"#000000\" stroke-opacity=\"1\" stroke-width=\"3.2\"/>\n",
       "<circle clip-path=\"url(#clip422)\" cx=\"2100.83\" cy=\"691.416\" r=\"14\" fill=\"#009af9\" fill-rule=\"evenodd\" fill-opacity=\"1\" stroke=\"#000000\" stroke-opacity=\"1\" stroke-width=\"3.2\"/>\n",
       "<polyline clip-path=\"url(#clip422)\" style=\"stroke:#e26f46; stroke-width:4; stroke-opacity:1; fill:none\" points=\"\n",
       "  2290.25,238.836 2100.83,691.416 \n",
       "  \"/>\n",
       "<polyline clip-path=\"url(#clip422)\" style=\"stroke:#e26f46; stroke-width:4; stroke-opacity:1; fill:none\" points=\"\n",
       "  2131.34,665.157 2100.83,691.416 2098.13,651.258 \n",
       "  \"/>\n",
       "<polyline clip-path=\"url(#clip422)\" style=\"stroke:#e26f46; stroke-width:4; stroke-opacity:1; fill:none\" points=\"\n",
       "  2100.83,691.416 2290.25,238.836 \n",
       "  \"/>\n",
       "<polyline clip-path=\"url(#clip422)\" style=\"stroke:#e26f46; stroke-width:4; stroke-opacity:1; fill:none\" points=\"\n",
       "  1722,691.416 2290.25,238.836 \n",
       "  \"/>\n",
       "<polyline clip-path=\"url(#clip422)\" style=\"stroke:#e26f46; stroke-width:4; stroke-opacity:1; fill:none\" points=\"\n",
       "  2250.87,247.184 2290.25,238.836 2273.3,275.344 \n",
       "  \"/>\n",
       "<polyline clip-path=\"url(#clip422)\" style=\"stroke:#e26f46; stroke-width:4; stroke-opacity:1; fill:none\" points=\"\n",
       "  2290.25,238.836 1722,691.416 \n",
       "  \"/>\n",
       "<polyline clip-path=\"url(#clip422)\" style=\"stroke:#e26f46; stroke-width:4; stroke-opacity:1; fill:none\" points=\"\n",
       "  1343.17,540.556 1722,691.416 \n",
       "  \"/>\n",
       "<polyline clip-path=\"url(#clip422)\" style=\"stroke:#e26f46; stroke-width:4; stroke-opacity:1; fill:none\" points=\"\n",
       "  1695.22,661.374 1722,691.416 1681.9,694.82 \n",
       "  \"/>\n",
       "<polyline clip-path=\"url(#clip422)\" style=\"stroke:#e26f46; stroke-width:4; stroke-opacity:1; fill:none\" points=\"\n",
       "  1722,691.416 1343.17,540.556 \n",
       "  \"/>\n",
       "<polyline clip-path=\"url(#clip422)\" style=\"stroke:#e26f46; stroke-width:4; stroke-opacity:1; fill:none\" points=\"\n",
       "  964.338,87.9763 1343.17,540.556 \n",
       "  \"/>\n",
       "<polyline clip-path=\"url(#clip422)\" style=\"stroke:#e26f46; stroke-width:4; stroke-opacity:1; fill:none\" points=\"\n",
       "  1333.87,501.397 1343.17,540.556 1306.26,524.504 \n",
       "  \"/>\n",
       "<polyline clip-path=\"url(#clip422)\" style=\"stroke:#e26f46; stroke-width:4; stroke-opacity:1; fill:none\" points=\"\n",
       "  1343.17,540.556 964.338,87.9763 \n",
       "  \"/>\n",
       "<polyline clip-path=\"url(#clip422)\" style=\"stroke:#e26f46; stroke-width:4; stroke-opacity:1; fill:none\" points=\"\n",
       "  774.922,87.9763 964.338,87.9763 \n",
       "  \"/>\n",
       "<polyline clip-path=\"url(#clip422)\" style=\"stroke:#e26f46; stroke-width:4; stroke-opacity:1; fill:none\" points=\"\n",
       "  928.338,69.9763 964.338,87.9763 928.338,105.976 \n",
       "  \"/>\n",
       "<polyline clip-path=\"url(#clip422)\" style=\"stroke:#e26f46; stroke-width:4; stroke-opacity:1; fill:none\" points=\"\n",
       "  964.338,87.9763 774.922,87.9763 \n",
       "  \"/>\n",
       "<polyline clip-path=\"url(#clip422)\" style=\"stroke:#e26f46; stroke-width:4; stroke-opacity:1; fill:none\" points=\"\n",
       "  585.507,238.836 774.922,87.9763 \n",
       "  \"/>\n",
       "<polyline clip-path=\"url(#clip422)\" style=\"stroke:#e26f46; stroke-width:4; stroke-opacity:1; fill:none\" points=\"\n",
       "  735.548,96.3243 774.922,87.9763 757.976,124.484 \n",
       "  \"/>\n",
       "<polyline clip-path=\"url(#clip422)\" style=\"stroke:#e26f46; stroke-width:4; stroke-opacity:1; fill:none\" points=\"\n",
       "  774.922,87.9763 585.507,238.836 \n",
       "  \"/>\n",
       "<polyline clip-path=\"url(#clip422)\" style=\"stroke:#e26f46; stroke-width:4; stroke-opacity:1; fill:none\" points=\"\n",
       "  396.091,238.836 585.507,238.836 \n",
       "  \"/>\n",
       "<polyline clip-path=\"url(#clip422)\" style=\"stroke:#e26f46; stroke-width:4; stroke-opacity:1; fill:none\" points=\"\n",
       "  549.507,220.836 585.507,238.836 549.507,256.836 \n",
       "  \"/>\n",
       "<polyline clip-path=\"url(#clip422)\" style=\"stroke:#e26f46; stroke-width:4; stroke-opacity:1; fill:none\" points=\"\n",
       "  585.507,238.836 396.091,238.836 \n",
       "  \"/>\n",
       "<polyline clip-path=\"url(#clip422)\" style=\"stroke:#e26f46; stroke-width:4; stroke-opacity:1; fill:none\" points=\"\n",
       "  206.675,389.696 396.091,238.836 \n",
       "  \"/>\n",
       "<polyline clip-path=\"url(#clip422)\" style=\"stroke:#e26f46; stroke-width:4; stroke-opacity:1; fill:none\" points=\"\n",
       "  356.717,247.184 396.091,238.836 379.145,275.344 \n",
       "  \"/>\n",
       "<polyline clip-path=\"url(#clip422)\" style=\"stroke:#e26f46; stroke-width:4; stroke-opacity:1; fill:none\" points=\"\n",
       "  396.091,238.836 206.675,389.696 \n",
       "  \"/>\n",
       "<polyline clip-path=\"url(#clip422)\" style=\"stroke:#e26f46; stroke-width:4; stroke-opacity:1; fill:none\" points=\"\n",
       "  206.675,540.556 206.675,389.696 \n",
       "  \"/>\n",
       "<polyline clip-path=\"url(#clip422)\" style=\"stroke:#e26f46; stroke-width:4; stroke-opacity:1; fill:none\" points=\"\n",
       "  188.675,425.696 206.675,389.696 224.675,425.696 \n",
       "  \"/>\n",
       "<polyline clip-path=\"url(#clip422)\" style=\"stroke:#e26f46; stroke-width:4; stroke-opacity:1; fill:none\" points=\"\n",
       "  206.675,389.696 206.675,540.556 \n",
       "  \"/>\n",
       "<polyline clip-path=\"url(#clip422)\" style=\"stroke:#e26f46; stroke-width:4; stroke-opacity:1; fill:none\" points=\"\n",
       "  774.922,540.556 206.675,540.556 \n",
       "  \"/>\n",
       "<polyline clip-path=\"url(#clip422)\" style=\"stroke:#e26f46; stroke-width:4; stroke-opacity:1; fill:none\" points=\"\n",
       "  242.675,558.556 206.675,540.556 242.675,522.556 \n",
       "  \"/>\n",
       "<polyline clip-path=\"url(#clip422)\" style=\"stroke:#e26f46; stroke-width:4; stroke-opacity:1; fill:none\" points=\"\n",
       "  206.675,540.556 774.922,540.556 \n",
       "  \"/>\n",
       "<polyline clip-path=\"url(#clip422)\" style=\"stroke:#e26f46; stroke-width:4; stroke-opacity:1; fill:none\" points=\"\n",
       "  206.675,691.416 774.922,540.556 \n",
       "  \"/>\n",
       "<polyline clip-path=\"url(#clip422)\" style=\"stroke:#e26f46; stroke-width:4; stroke-opacity:1; fill:none\" points=\"\n",
       "  735.509,532.396 774.922,540.556 744.746,567.191 \n",
       "  \"/>\n",
       "<polyline clip-path=\"url(#clip422)\" style=\"stroke:#e26f46; stroke-width:4; stroke-opacity:1; fill:none\" points=\"\n",
       "  774.922,540.556 206.675,691.416 \n",
       "  \"/>\n",
       "<polyline clip-path=\"url(#clip422)\" style=\"stroke:#e26f46; stroke-width:4; stroke-opacity:1; fill:none\" points=\"\n",
       "  396.091,842.276 206.675,691.416 \n",
       "  \"/>\n",
       "<polyline clip-path=\"url(#clip422)\" style=\"stroke:#e26f46; stroke-width:4; stroke-opacity:1; fill:none\" points=\"\n",
       "  223.621,727.924 206.675,691.416 246.049,699.764 \n",
       "  \"/>\n",
       "<polyline clip-path=\"url(#clip422)\" style=\"stroke:#e26f46; stroke-width:4; stroke-opacity:1; fill:none\" points=\"\n",
       "  206.675,691.416 396.091,842.276 \n",
       "  \"/>\n",
       "<polyline clip-path=\"url(#clip422)\" style=\"stroke:#e26f46; stroke-width:4; stroke-opacity:1; fill:none\" points=\"\n",
       "  774.922,691.416 396.091,842.276 \n",
       "  \"/>\n",
       "<polyline clip-path=\"url(#clip422)\" style=\"stroke:#e26f46; stroke-width:4; stroke-opacity:1; fill:none\" points=\"\n",
       "  436.196,845.68 396.091,842.276 422.877,812.234 \n",
       "  \"/>\n",
       "<polyline clip-path=\"url(#clip422)\" style=\"stroke:#e26f46; stroke-width:4; stroke-opacity:1; fill:none\" points=\"\n",
       "  396.091,842.276 774.922,691.416 \n",
       "  \"/>\n",
       "<polyline clip-path=\"url(#clip422)\" style=\"stroke:#e26f46; stroke-width:4; stroke-opacity:1; fill:none\" points=\"\n",
       "  964.338,842.276 774.922,691.416 \n",
       "  \"/>\n",
       "<polyline clip-path=\"url(#clip422)\" style=\"stroke:#e26f46; stroke-width:4; stroke-opacity:1; fill:none\" points=\"\n",
       "  791.868,727.924 774.922,691.416 814.296,699.764 \n",
       "  \"/>\n",
       "<polyline clip-path=\"url(#clip422)\" style=\"stroke:#e26f46; stroke-width:4; stroke-opacity:1; fill:none\" points=\"\n",
       "  774.922,691.416 964.338,842.276 \n",
       "  \"/>\n",
       "<polyline clip-path=\"url(#clip422)\" style=\"stroke:#e26f46; stroke-width:4; stroke-opacity:1; fill:none\" points=\"\n",
       "  1153.75,1294.86 964.338,842.276 \n",
       "  \"/>\n",
       "<polyline clip-path=\"url(#clip422)\" style=\"stroke:#e26f46; stroke-width:4; stroke-opacity:1; fill:none\" points=\"\n",
       "  961.632,882.434 964.338,842.276 994.841,868.535 \n",
       "  \"/>\n",
       "<polyline clip-path=\"url(#clip422)\" style=\"stroke:#e26f46; stroke-width:4; stroke-opacity:1; fill:none\" points=\"\n",
       "  964.338,842.276 1153.75,1294.86 \n",
       "  \"/>\n",
       "<polyline clip-path=\"url(#clip422)\" style=\"stroke:#e26f46; stroke-width:4; stroke-opacity:1; fill:none\" points=\"\n",
       "  964.338,1445.72 1153.75,1294.86 \n",
       "  \"/>\n",
       "<polyline clip-path=\"url(#clip422)\" style=\"stroke:#e26f46; stroke-width:4; stroke-opacity:1; fill:none\" points=\"\n",
       "  1114.38,1303.2 1153.75,1294.86 1136.81,1331.36 \n",
       "  \"/>\n",
       "<polyline clip-path=\"url(#clip422)\" style=\"stroke:#e26f46; stroke-width:4; stroke-opacity:1; fill:none\" points=\"\n",
       "  1153.75,1294.86 964.338,1445.72 \n",
       "  \"/>\n",
       "<polyline clip-path=\"url(#clip422)\" style=\"stroke:#e26f46; stroke-width:4; stroke-opacity:1; fill:none\" points=\"\n",
       "  1343.17,1445.72 964.338,1445.72 \n",
       "  \"/>\n",
       "<polyline clip-path=\"url(#clip422)\" style=\"stroke:#e26f46; stroke-width:4; stroke-opacity:1; fill:none\" points=\"\n",
       "  1000.34,1463.72 964.338,1445.72 1000.34,1427.72 \n",
       "  \"/>\n",
       "<polyline clip-path=\"url(#clip422)\" style=\"stroke:#e26f46; stroke-width:4; stroke-opacity:1; fill:none\" points=\"\n",
       "  964.338,1445.72 1343.17,1445.72 \n",
       "  \"/>\n",
       "<polyline clip-path=\"url(#clip422)\" style=\"stroke:#e26f46; stroke-width:4; stroke-opacity:1; fill:none\" points=\"\n",
       "  1532.59,1294.86 1343.17,1445.72 \n",
       "  \"/>\n",
       "<polyline clip-path=\"url(#clip422)\" style=\"stroke:#e26f46; stroke-width:4; stroke-opacity:1; fill:none\" points=\"\n",
       "  1382.54,1437.37 1343.17,1445.72 1360.12,1409.21 \n",
       "  \"/>\n",
       "<polyline clip-path=\"url(#clip422)\" style=\"stroke:#e26f46; stroke-width:4; stroke-opacity:1; fill:none\" points=\"\n",
       "  1343.17,1445.72 1532.59,1294.86 \n",
       "  \"/>\n",
       "<polyline clip-path=\"url(#clip422)\" style=\"stroke:#e26f46; stroke-width:4; stroke-opacity:1; fill:none\" points=\"\n",
       "  1343.17,1144 1532.59,1294.86 \n",
       "  \"/>\n",
       "<polyline clip-path=\"url(#clip422)\" style=\"stroke:#e26f46; stroke-width:4; stroke-opacity:1; fill:none\" points=\"\n",
       "  1515.64,1258.35 1532.59,1294.86 1493.21,1286.51 \n",
       "  \"/>\n",
       "<polyline clip-path=\"url(#clip422)\" style=\"stroke:#e26f46; stroke-width:4; stroke-opacity:1; fill:none\" points=\"\n",
       "  1532.59,1294.86 1343.17,1144 \n",
       "  \"/>\n",
       "<polyline clip-path=\"url(#clip422)\" style=\"stroke:#e26f46; stroke-width:4; stroke-opacity:1; fill:none\" points=\"\n",
       "  1722,993.136 1343.17,1144 \n",
       "  \"/>\n",
       "<polyline clip-path=\"url(#clip422)\" style=\"stroke:#e26f46; stroke-width:4; stroke-opacity:1; fill:none\" points=\"\n",
       "  1383.27,1147.4 1343.17,1144 1369.96,1113.95 \n",
       "  \"/>\n",
       "<polyline clip-path=\"url(#clip422)\" style=\"stroke:#e26f46; stroke-width:4; stroke-opacity:1; fill:none\" points=\"\n",
       "  1343.17,1144 1722,993.136 \n",
       "  \"/>\n",
       "<polyline clip-path=\"url(#clip422)\" style=\"stroke:#e26f46; stroke-width:4; stroke-opacity:1; fill:none\" points=\"\n",
       "  2100.83,691.416 1722,993.136 \n",
       "  \"/>\n",
       "<polyline clip-path=\"url(#clip422)\" style=\"stroke:#e26f46; stroke-width:4; stroke-opacity:1; fill:none\" points=\"\n",
       "  1761.38,984.788 1722,993.136 1738.95,956.628 \n",
       "  \"/>\n",
       "<polyline clip-path=\"url(#clip422)\" style=\"stroke:#e26f46; stroke-width:4; stroke-opacity:1; fill:none\" points=\"\n",
       "  1722,993.136 2100.83,691.416 \n",
       "  \"/>\n",
       "<path clip-path=\"url(#clip420)\" d=\"\n",
       "M1982.72 216.178 L2279.14 216.178 L2279.14 95.2176 L1982.72 95.2176  Z\n",
       "  \" fill=\"#ffffff\" fill-rule=\"evenodd\" fill-opacity=\"1\"/>\n",
       "<polyline clip-path=\"url(#clip420)\" style=\"stroke:#000000; stroke-width:4; stroke-opacity:1; fill:none\" points=\"\n",
       "  1982.72,216.178 2279.14,216.178 2279.14,95.2176 1982.72,95.2176 1982.72,216.178 \n",
       "  \"/>\n",
       "<circle clip-path=\"url(#clip420)\" cx=\"2080.88\" cy=\"155.698\" r=\"23\" fill=\"#009af9\" fill-rule=\"evenodd\" fill-opacity=\"1\" stroke=\"#000000\" stroke-opacity=\"1\" stroke-width=\"5.12\"/>\n",
       "<path clip-path=\"url(#clip420)\" d=\"M 0 0 M2192.88 175.385 Q2191.08 180.015 2189.36 181.427 Q2187.65 182.839 2184.78 182.839 L2181.38 182.839 L2181.38 179.274 L2183.88 179.274 Q2185.64 179.274 2186.61 178.44 Q2187.58 177.607 2188.76 174.505 L2189.52 172.561 L2179.04 147.052 L2183.55 147.052 L2191.65 167.329 L2199.76 147.052 L2204.27 147.052 L2192.88 175.385 Z\" fill=\"#000000\" fill-rule=\"evenodd\" fill-opacity=\"1\" /><path clip-path=\"url(#clip420)\" d=\"M 0 0 M2210.15 169.042 L2217.79 169.042 L2217.79 142.677 L2209.48 144.343 L2209.48 140.084 L2217.74 138.418 L2222.42 138.418 L2222.42 169.042 L2230.06 169.042 L2230.06 172.978 L2210.15 172.978 L2210.15 169.042 Z\" fill=\"#000000\" fill-rule=\"evenodd\" fill-opacity=\"1\" /></svg>\n"
      ]
     },
     "execution_count": 16,
     "metadata": {},
     "output_type": "execute_result"
    }
   ],
   "source": [
    "gr()\n",
    "dino_vectors = [\n",
    "    Point(6, 4),\n",
    "    Point(3,1),\n",
    "    Point(1,2),\n",
    "    Point(-1,5),\n",
    "    Point(-2,5),\n",
    "    Point(-3,4),\n",
    "    Point(-4,4),\n",
    "    Point(-5,3),\n",
    "    Point(-5,2),\n",
    "    Point(-2,2),\n",
    "    Point(-5,1),\n",
    "    Point(-4,0),\n",
    "    Point(-2,1),\n",
    "    Point(-1,0),\n",
    "    Point(0,-3),\n",
    "    Point(-1,-4),\n",
    "    Point(1,-4),\n",
    "    Point(2,-3),\n",
    "    Point(1,-2),\n",
    "    Point(3,-1),\n",
    "    Point(5,1)\n",
    "]\n",
    "dino_quivers = [(y - x) for (x, y) in zip(dino_vectors, circshift(dino_vectors, 1))]\n",
    "\n",
    "dino_tuples = [to_tuple(vec) for vec in dino_vectors]\n",
    "dino_quiver_tuples = [to_tuple(vec) for vec in dino_quivers]\n",
    "scatter(dino_tuples)\n",
    "quiver!(dino_tuples, quiver=dino_quiver_tuples)"
   ]
  },
  {
   "cell_type": "markdown",
   "id": "touched-partner",
   "metadata": {},
   "source": [
    "### 2.5"
   ]
  },
  {
   "cell_type": "code",
   "execution_count": 17,
   "id": "authorized-resort",
   "metadata": {},
   "outputs": [
    {
     "data": {
      "image/svg+xml": [
       "<?xml version=\"1.0\" encoding=\"utf-8\"?>\n",
       "<svg xmlns=\"http://www.w3.org/2000/svg\" xmlns:xlink=\"http://www.w3.org/1999/xlink\" width=\"600\" height=\"400\" viewBox=\"0 0 2400 1600\">\n",
       "<defs>\n",
       "  <clipPath id=\"clip460\">\n",
       "    <rect x=\"0\" y=\"0\" width=\"2400\" height=\"1600\"/>\n",
       "  </clipPath>\n",
       "</defs>\n",
       "<path clip-path=\"url(#clip460)\" d=\"\n",
       "M0 1600 L2400 1600 L2400 0 L0 0  Z\n",
       "  \" fill=\"#ffffff\" fill-rule=\"evenodd\" fill-opacity=\"1\"/>\n",
       "<defs>\n",
       "  <clipPath id=\"clip461\">\n",
       "    <rect x=\"480\" y=\"0\" width=\"1681\" height=\"1600\"/>\n",
       "  </clipPath>\n",
       "</defs>\n",
       "<path clip-path=\"url(#clip460)\" d=\"\n",
       "M161.598 1486.45 L2352.76 1486.45 L2352.76 47.2441 L161.598 47.2441  Z\n",
       "  \" fill=\"#ffffff\" fill-rule=\"evenodd\" fill-opacity=\"1\"/>\n",
       "<defs>\n",
       "  <clipPath id=\"clip462\">\n",
       "    <rect x=\"161\" y=\"47\" width=\"2192\" height=\"1440\"/>\n",
       "  </clipPath>\n",
       "</defs>\n",
       "<polyline clip-path=\"url(#clip462)\" style=\"stroke:#000000; stroke-width:2; stroke-opacity:0.1; fill:none\" points=\"\n",
       "  223.612,1486.45 223.612,47.2441 \n",
       "  \"/>\n",
       "<polyline clip-path=\"url(#clip462)\" style=\"stroke:#000000; stroke-width:2; stroke-opacity:0.1; fill:none\" points=\"\n",
       "  740.395,1486.45 740.395,47.2441 \n",
       "  \"/>\n",
       "<polyline clip-path=\"url(#clip462)\" style=\"stroke:#000000; stroke-width:2; stroke-opacity:0.1; fill:none\" points=\"\n",
       "  1257.18,1486.45 1257.18,47.2441 \n",
       "  \"/>\n",
       "<polyline clip-path=\"url(#clip462)\" style=\"stroke:#000000; stroke-width:2; stroke-opacity:0.1; fill:none\" points=\"\n",
       "  1773.96,1486.45 1773.96,47.2441 \n",
       "  \"/>\n",
       "<polyline clip-path=\"url(#clip462)\" style=\"stroke:#000000; stroke-width:2; stroke-opacity:0.1; fill:none\" points=\"\n",
       "  2290.74,1486.45 2290.74,47.2441 \n",
       "  \"/>\n",
       "<polyline clip-path=\"url(#clip460)\" style=\"stroke:#000000; stroke-width:4; stroke-opacity:1; fill:none\" points=\"\n",
       "  161.598,1486.45 2352.76,1486.45 \n",
       "  \"/>\n",
       "<polyline clip-path=\"url(#clip460)\" style=\"stroke:#000000; stroke-width:4; stroke-opacity:1; fill:none\" points=\"\n",
       "  223.612,1486.45 223.612,1469.18 \n",
       "  \"/>\n",
       "<polyline clip-path=\"url(#clip460)\" style=\"stroke:#000000; stroke-width:4; stroke-opacity:1; fill:none\" points=\"\n",
       "  740.395,1486.45 740.395,1469.18 \n",
       "  \"/>\n",
       "<polyline clip-path=\"url(#clip460)\" style=\"stroke:#000000; stroke-width:4; stroke-opacity:1; fill:none\" points=\"\n",
       "  1257.18,1486.45 1257.18,1469.18 \n",
       "  \"/>\n",
       "<polyline clip-path=\"url(#clip460)\" style=\"stroke:#000000; stroke-width:4; stroke-opacity:1; fill:none\" points=\"\n",
       "  1773.96,1486.45 1773.96,1469.18 \n",
       "  \"/>\n",
       "<polyline clip-path=\"url(#clip460)\" style=\"stroke:#000000; stroke-width:4; stroke-opacity:1; fill:none\" points=\"\n",
       "  2290.74,1486.45 2290.74,1469.18 \n",
       "  \"/>\n",
       "<path clip-path=\"url(#clip460)\" d=\"M 0 0 M182.374 1530.29 L212.05 1530.29 L212.05 1534.23 L182.374 1534.23 L182.374 1530.29 Z\" fill=\"#000000\" fill-rule=\"evenodd\" fill-opacity=\"1\" /><path clip-path=\"url(#clip460)\" d=\"M 0 0 M217.929 1543.18 L225.568 1543.18 L225.568 1516.82 L217.258 1518.49 L217.258 1514.23 L225.522 1512.56 L230.198 1512.56 L230.198 1543.18 L237.837 1543.18 L237.837 1547.12 L217.929 1547.12 L217.929 1543.18 Z\" fill=\"#000000\" fill-rule=\"evenodd\" fill-opacity=\"1\" /><path clip-path=\"url(#clip460)\" d=\"M 0 0 M252.906 1515.64 Q249.295 1515.64 247.466 1519.2 Q245.661 1522.75 245.661 1529.87 Q245.661 1536.98 247.466 1540.55 Q249.295 1544.09 252.906 1544.09 Q256.54 1544.09 258.346 1540.55 Q260.174 1536.98 260.174 1529.87 Q260.174 1522.75 258.346 1519.2 Q256.54 1515.64 252.906 1515.64 M252.906 1511.93 Q258.716 1511.93 261.772 1516.54 Q264.85 1521.12 264.85 1529.87 Q264.85 1538.6 261.772 1543.21 Q258.716 1547.79 252.906 1547.79 Q247.096 1547.79 244.017 1543.21 Q240.962 1538.6 240.962 1529.87 Q240.962 1521.12 244.017 1516.54 Q247.096 1511.93 252.906 1511.93 Z\" fill=\"#000000\" fill-rule=\"evenodd\" fill-opacity=\"1\" /><path clip-path=\"url(#clip460)\" d=\"M 0 0 M712.548 1530.29 L742.223 1530.29 L742.223 1534.23 L712.548 1534.23 L712.548 1530.29 Z\" fill=\"#000000\" fill-rule=\"evenodd\" fill-opacity=\"1\" /><path clip-path=\"url(#clip460)\" d=\"M 0 0 M747.339 1512.56 L765.695 1512.56 L765.695 1516.5 L751.621 1516.5 L751.621 1524.97 Q752.64 1524.62 753.658 1524.46 Q754.677 1524.27 755.695 1524.27 Q761.482 1524.27 764.862 1527.44 Q768.242 1530.62 768.242 1536.03 Q768.242 1541.61 764.769 1544.71 Q761.297 1547.79 754.978 1547.79 Q752.802 1547.79 750.533 1547.42 Q748.288 1547.05 745.881 1546.31 L745.881 1541.61 Q747.964 1542.74 750.186 1543.3 Q752.408 1543.86 754.885 1543.86 Q758.89 1543.86 761.228 1541.75 Q763.566 1539.64 763.566 1536.03 Q763.566 1532.42 761.228 1530.31 Q758.89 1528.21 754.885 1528.21 Q753.01 1528.21 751.135 1528.62 Q749.283 1529.04 747.339 1529.92 L747.339 1512.56 Z\" fill=\"#000000\" fill-rule=\"evenodd\" fill-opacity=\"1\" /><path clip-path=\"url(#clip460)\" d=\"M 0 0 M1257.18 1515.64 Q1253.57 1515.64 1251.74 1519.2 Q1249.93 1522.75 1249.93 1529.87 Q1249.93 1536.98 1251.74 1540.55 Q1253.57 1544.09 1257.18 1544.09 Q1260.81 1544.09 1262.62 1540.55 Q1264.45 1536.98 1264.45 1529.87 Q1264.45 1522.75 1262.62 1519.2 Q1260.81 1515.64 1257.18 1515.64 M1257.18 1511.93 Q1262.99 1511.93 1266.04 1516.54 Q1269.12 1521.12 1269.12 1529.87 Q1269.12 1538.6 1266.04 1543.21 Q1262.99 1547.79 1257.18 1547.79 Q1251.37 1547.79 1248.29 1543.21 Q1245.23 1538.6 1245.23 1529.87 Q1245.23 1521.12 1248.29 1516.54 Q1251.37 1511.93 1257.18 1511.93 Z\" fill=\"#000000\" fill-rule=\"evenodd\" fill-opacity=\"1\" /><path clip-path=\"url(#clip460)\" d=\"M 0 0 M1764.24 1512.56 L1782.59 1512.56 L1782.59 1516.5 L1768.52 1516.5 L1768.52 1524.97 Q1769.54 1524.62 1770.56 1524.46 Q1771.58 1524.27 1772.59 1524.27 Q1778.38 1524.27 1781.76 1527.44 Q1785.14 1530.62 1785.14 1536.03 Q1785.14 1541.61 1781.67 1544.71 Q1778.2 1547.79 1771.88 1547.79 Q1769.7 1547.79 1767.43 1547.42 Q1765.19 1547.05 1762.78 1546.31 L1762.78 1541.61 Q1764.86 1542.74 1767.08 1543.3 Q1769.31 1543.86 1771.78 1543.86 Q1775.79 1543.86 1778.13 1541.75 Q1780.46 1539.64 1780.46 1536.03 Q1780.46 1532.42 1778.13 1530.31 Q1775.79 1528.21 1771.78 1528.21 Q1769.91 1528.21 1768.03 1528.62 Q1766.18 1529.04 1764.24 1529.92 L1764.24 1512.56 Z\" fill=\"#000000\" fill-rule=\"evenodd\" fill-opacity=\"1\" /><path clip-path=\"url(#clip460)\" d=\"M 0 0 M2267.62 1543.18 L2275.26 1543.18 L2275.26 1516.82 L2266.95 1518.49 L2266.95 1514.23 L2275.21 1512.56 L2279.89 1512.56 L2279.89 1543.18 L2287.52 1543.18 L2287.52 1547.12 L2267.62 1547.12 L2267.62 1543.18 Z\" fill=\"#000000\" fill-rule=\"evenodd\" fill-opacity=\"1\" /><path clip-path=\"url(#clip460)\" d=\"M 0 0 M2302.59 1515.64 Q2298.98 1515.64 2297.15 1519.2 Q2295.35 1522.75 2295.35 1529.87 Q2295.35 1536.98 2297.15 1540.55 Q2298.98 1544.09 2302.59 1544.09 Q2306.23 1544.09 2308.03 1540.55 Q2309.86 1536.98 2309.86 1529.87 Q2309.86 1522.75 2308.03 1519.2 Q2306.23 1515.64 2302.59 1515.64 M2302.59 1511.93 Q2308.4 1511.93 2311.46 1516.54 Q2314.54 1521.12 2314.54 1529.87 Q2314.54 1538.6 2311.46 1543.21 Q2308.4 1547.79 2302.59 1547.79 Q2296.78 1547.79 2293.7 1543.21 Q2290.65 1538.6 2290.65 1529.87 Q2290.65 1521.12 2293.7 1516.54 Q2296.78 1511.93 2302.59 1511.93 Z\" fill=\"#000000\" fill-rule=\"evenodd\" fill-opacity=\"1\" /><polyline clip-path=\"url(#clip462)\" style=\"stroke:#000000; stroke-width:2; stroke-opacity:0.1; fill:none\" points=\"\n",
       "  161.598,1445.72 2352.76,1445.72 \n",
       "  \"/>\n",
       "<polyline clip-path=\"url(#clip462)\" style=\"stroke:#000000; stroke-width:2; stroke-opacity:0.1; fill:none\" points=\"\n",
       "  161.598,1106.28 2352.76,1106.28 \n",
       "  \"/>\n",
       "<polyline clip-path=\"url(#clip462)\" style=\"stroke:#000000; stroke-width:2; stroke-opacity:0.1; fill:none\" points=\"\n",
       "  161.598,766.846 2352.76,766.846 \n",
       "  \"/>\n",
       "<polyline clip-path=\"url(#clip462)\" style=\"stroke:#000000; stroke-width:2; stroke-opacity:0.1; fill:none\" points=\"\n",
       "  161.598,427.411 2352.76,427.411 \n",
       "  \"/>\n",
       "<polyline clip-path=\"url(#clip462)\" style=\"stroke:#000000; stroke-width:2; stroke-opacity:0.1; fill:none\" points=\"\n",
       "  161.598,87.9763 2352.76,87.9763 \n",
       "  \"/>\n",
       "<polyline clip-path=\"url(#clip460)\" style=\"stroke:#000000; stroke-width:4; stroke-opacity:1; fill:none\" points=\"\n",
       "  161.598,1486.45 161.598,47.2441 \n",
       "  \"/>\n",
       "<polyline clip-path=\"url(#clip460)\" style=\"stroke:#000000; stroke-width:4; stroke-opacity:1; fill:none\" points=\"\n",
       "  161.598,1445.72 187.892,1445.72 \n",
       "  \"/>\n",
       "<polyline clip-path=\"url(#clip460)\" style=\"stroke:#000000; stroke-width:4; stroke-opacity:1; fill:none\" points=\"\n",
       "  161.598,1106.28 187.892,1106.28 \n",
       "  \"/>\n",
       "<polyline clip-path=\"url(#clip460)\" style=\"stroke:#000000; stroke-width:4; stroke-opacity:1; fill:none\" points=\"\n",
       "  161.598,766.846 187.892,766.846 \n",
       "  \"/>\n",
       "<polyline clip-path=\"url(#clip460)\" style=\"stroke:#000000; stroke-width:4; stroke-opacity:1; fill:none\" points=\"\n",
       "  161.598,427.411 187.892,427.411 \n",
       "  \"/>\n",
       "<polyline clip-path=\"url(#clip460)\" style=\"stroke:#000000; stroke-width:4; stroke-opacity:1; fill:none\" points=\"\n",
       "  161.598,87.9763 187.892,87.9763 \n",
       "  \"/>\n",
       "<path clip-path=\"url(#clip460)\" d=\"M 0 0 M113.654 1431.51 Q110.043 1431.51 108.214 1435.08 Q106.408 1438.62 106.408 1445.75 Q106.408 1452.86 108.214 1456.42 Q110.043 1459.96 113.654 1459.96 Q117.288 1459.96 119.094 1456.42 Q120.922 1452.86 120.922 1445.75 Q120.922 1438.62 119.094 1435.08 Q117.288 1431.51 113.654 1431.51 M113.654 1427.81 Q119.464 1427.81 122.52 1432.42 Q125.598 1437 125.598 1445.75 Q125.598 1454.48 122.52 1459.08 Q119.464 1463.67 113.654 1463.67 Q107.844 1463.67 104.765 1459.08 Q101.709 1454.48 101.709 1445.75 Q101.709 1437 104.765 1432.42 Q107.844 1427.81 113.654 1427.81 Z\" fill=\"#000000\" fill-rule=\"evenodd\" fill-opacity=\"1\" /><path clip-path=\"url(#clip460)\" d=\"M 0 0 M83.2605 1119.63 L99.5798 1119.63 L99.5798 1123.56 L77.6355 1123.56 L77.6355 1119.63 Q80.2975 1116.87 84.8808 1112.24 Q89.4873 1107.59 90.6678 1106.25 Q92.9132 1103.72 93.7928 1101.99 Q94.6956 1100.23 94.6956 1098.54 Q94.6956 1095.78 92.7512 1094.05 Q90.8299 1092.31 87.728 1092.31 Q85.529 1092.31 83.0753 1093.07 Q80.6447 1093.84 77.867 1095.39 L77.867 1090.67 Q80.691 1089.53 83.1447 1088.95 Q85.5984 1088.38 87.6354 1088.38 Q93.0058 1088.38 96.2002 1091.06 Q99.3946 1093.75 99.3946 1098.24 Q99.3946 1100.37 98.5845 1102.29 Q97.7974 1104.19 95.691 1106.78 Q95.1123 1107.45 92.0104 1110.67 Q88.9086 1113.86 83.2605 1119.63 Z\" fill=\"#000000\" fill-rule=\"evenodd\" fill-opacity=\"1\" /><path clip-path=\"url(#clip460)\" d=\"M 0 0 M104.696 1089 L123.052 1089 L123.052 1092.94 L108.978 1092.94 L108.978 1101.41 Q109.996 1101.06 111.015 1100.9 Q112.033 1100.71 113.052 1100.71 Q118.839 1100.71 122.219 1103.89 Q125.598 1107.06 125.598 1112.47 Q125.598 1118.05 122.126 1121.15 Q118.654 1124.23 112.334 1124.23 Q110.158 1124.23 107.89 1123.86 Q105.645 1123.49 103.237 1122.75 L103.237 1118.05 Q105.321 1119.19 107.543 1119.74 Q109.765 1120.3 112.242 1120.3 Q116.246 1120.3 118.584 1118.19 Q120.922 1116.08 120.922 1112.47 Q120.922 1108.86 118.584 1106.76 Q116.246 1104.65 112.242 1104.65 Q110.367 1104.65 108.492 1105.07 Q106.64 1105.48 104.696 1106.36 L104.696 1089 Z\" fill=\"#000000\" fill-rule=\"evenodd\" fill-opacity=\"1\" /><path clip-path=\"url(#clip460)\" d=\"M 0 0 M77.6818 749.566 L96.0382 749.566 L96.0382 753.501 L81.9642 753.501 L81.9642 761.973 Q82.9827 761.626 84.0012 761.464 Q85.0197 761.279 86.0382 761.279 Q91.8252 761.279 95.2049 764.45 Q98.5845 767.621 98.5845 773.038 Q98.5845 778.617 95.1123 781.719 Q91.6401 784.797 85.3206 784.797 Q83.1447 784.797 80.8762 784.427 Q78.6309 784.057 76.2235 783.316 L76.2235 778.617 Q78.3068 779.751 80.529 780.307 Q82.7512 780.862 85.2281 780.862 Q89.2327 780.862 91.5706 778.756 Q93.9086 776.649 93.9086 773.038 Q93.9086 769.427 91.5706 767.321 Q89.2327 765.214 85.2281 765.214 Q83.3531 765.214 81.4781 765.631 Q79.6262 766.047 77.6818 766.927 L77.6818 749.566 Z\" fill=\"#000000\" fill-rule=\"evenodd\" fill-opacity=\"1\" /><path clip-path=\"url(#clip460)\" d=\"M 0 0 M113.654 752.645 Q110.043 752.645 108.214 756.209 Q106.408 759.751 106.408 766.881 Q106.408 773.987 108.214 777.552 Q110.043 781.094 113.654 781.094 Q117.288 781.094 119.094 777.552 Q120.922 773.987 120.922 766.881 Q120.922 759.751 119.094 756.209 Q117.288 752.645 113.654 752.645 M113.654 748.941 Q119.464 748.941 122.52 753.547 Q125.598 758.131 125.598 766.881 Q125.598 775.608 122.52 780.214 Q119.464 784.797 113.654 784.797 Q107.844 784.797 104.765 780.214 Q101.709 775.608 101.709 766.881 Q101.709 758.131 104.765 753.547 Q107.844 748.941 113.654 748.941 Z\" fill=\"#000000\" fill-rule=\"evenodd\" fill-opacity=\"1\" /><path clip-path=\"url(#clip460)\" d=\"M 0 0 M77.3577 410.131 L99.5798 410.131 L99.5798 412.122 L87.0336 444.691 L82.1494 444.691 L93.9549 414.066 L77.3577 414.066 L77.3577 410.131 Z\" fill=\"#000000\" fill-rule=\"evenodd\" fill-opacity=\"1\" /><path clip-path=\"url(#clip460)\" d=\"M 0 0 M104.696 410.131 L123.052 410.131 L123.052 414.066 L108.978 414.066 L108.978 422.538 Q109.996 422.191 111.015 422.029 Q112.033 421.844 113.052 421.844 Q118.839 421.844 122.219 425.015 Q125.598 428.187 125.598 433.603 Q125.598 439.182 122.126 442.284 Q118.654 445.362 112.334 445.362 Q110.158 445.362 107.89 444.992 Q105.645 444.622 103.237 443.881 L103.237 439.182 Q105.321 440.316 107.543 440.872 Q109.765 441.427 112.242 441.427 Q116.246 441.427 118.584 439.321 Q120.922 437.214 120.922 433.603 Q120.922 429.992 118.584 427.886 Q116.246 425.779 112.242 425.779 Q110.367 425.779 108.492 426.196 Q106.64 426.613 104.696 427.492 L104.696 410.131 Z\" fill=\"#000000\" fill-rule=\"evenodd\" fill-opacity=\"1\" /><path clip-path=\"url(#clip460)\" d=\"M 0 0 M51.6634 101.321 L59.3023 101.321 L59.3023 74.9555 L50.9921 76.6222 L50.9921 72.3629 L59.256 70.6963 L63.9319 70.6963 L63.9319 101.321 L71.5707 101.321 L71.5707 105.256 L51.6634 105.256 L51.6634 101.321 Z\" fill=\"#000000\" fill-rule=\"evenodd\" fill-opacity=\"1\" /><path clip-path=\"url(#clip460)\" d=\"M 0 0 M86.6401 73.775 Q83.029 73.775 81.2003 77.3398 Q79.3948 80.8814 79.3948 88.011 Q79.3948 95.1174 81.2003 98.6822 Q83.029 102.224 86.6401 102.224 Q90.2743 102.224 92.0799 98.6822 Q93.9086 95.1174 93.9086 88.011 Q93.9086 80.8814 92.0799 77.3398 Q90.2743 73.775 86.6401 73.775 M86.6401 70.0713 Q92.4502 70.0713 95.5058 74.6777 Q98.5845 79.261 98.5845 88.011 Q98.5845 96.7378 95.5058 101.344 Q92.4502 105.928 86.6401 105.928 Q80.8299 105.928 77.7512 101.344 Q74.6957 96.7378 74.6957 88.011 Q74.6957 79.261 77.7512 74.6777 Q80.8299 70.0713 86.6401 70.0713 Z\" fill=\"#000000\" fill-rule=\"evenodd\" fill-opacity=\"1\" /><path clip-path=\"url(#clip460)\" d=\"M 0 0 M113.654 73.775 Q110.043 73.775 108.214 77.3398 Q106.408 80.8814 106.408 88.011 Q106.408 95.1174 108.214 98.6822 Q110.043 102.224 113.654 102.224 Q117.288 102.224 119.094 98.6822 Q120.922 95.1174 120.922 88.011 Q120.922 80.8814 119.094 77.3398 Q117.288 73.775 113.654 73.775 M113.654 70.0713 Q119.464 70.0713 122.52 74.6777 Q125.598 79.261 125.598 88.011 Q125.598 96.7378 122.52 101.344 Q119.464 105.928 113.654 105.928 Q107.844 105.928 104.765 101.344 Q101.709 96.7378 101.709 88.011 Q101.709 79.261 104.765 74.6777 Q107.844 70.0713 113.654 70.0713 Z\" fill=\"#000000\" fill-rule=\"evenodd\" fill-opacity=\"1\" /><circle clip-path=\"url(#clip462)\" cx=\"223.612\" cy=\"87.9763\" r=\"14\" fill=\"#009af9\" fill-rule=\"evenodd\" fill-opacity=\"1\" stroke=\"#000000\" stroke-opacity=\"1\" stroke-width=\"3.2\"/>\n",
       "<circle clip-path=\"url(#clip462)\" cx=\"326.969\" cy=\"345.947\" r=\"14\" fill=\"#009af9\" fill-rule=\"evenodd\" fill-opacity=\"1\" stroke=\"#000000\" stroke-opacity=\"1\" stroke-width=\"3.2\"/>\n",
       "<circle clip-path=\"url(#clip462)\" cx=\"430.325\" cy=\"576.762\" r=\"14\" fill=\"#009af9\" fill-rule=\"evenodd\" fill-opacity=\"1\" stroke=\"#000000\" stroke-opacity=\"1\" stroke-width=\"3.2\"/>\n",
       "<circle clip-path=\"url(#clip462)\" cx=\"533.682\" cy=\"780.423\" r=\"14\" fill=\"#009af9\" fill-rule=\"evenodd\" fill-opacity=\"1\" stroke=\"#000000\" stroke-opacity=\"1\" stroke-width=\"3.2\"/>\n",
       "<circle clip-path=\"url(#clip462)\" cx=\"637.038\" cy=\"956.93\" r=\"14\" fill=\"#009af9\" fill-rule=\"evenodd\" fill-opacity=\"1\" stroke=\"#000000\" stroke-opacity=\"1\" stroke-width=\"3.2\"/>\n",
       "<circle clip-path=\"url(#clip462)\" cx=\"740.395\" cy=\"1106.28\" r=\"14\" fill=\"#009af9\" fill-rule=\"evenodd\" fill-opacity=\"1\" stroke=\"#000000\" stroke-opacity=\"1\" stroke-width=\"3.2\"/>\n",
       "<circle clip-path=\"url(#clip462)\" cx=\"843.751\" cy=\"1228.48\" r=\"14\" fill=\"#009af9\" fill-rule=\"evenodd\" fill-opacity=\"1\" stroke=\"#000000\" stroke-opacity=\"1\" stroke-width=\"3.2\"/>\n",
       "<circle clip-path=\"url(#clip462)\" cx=\"947.108\" cy=\"1323.52\" r=\"14\" fill=\"#009af9\" fill-rule=\"evenodd\" fill-opacity=\"1\" stroke=\"#000000\" stroke-opacity=\"1\" stroke-width=\"3.2\"/>\n",
       "<circle clip-path=\"url(#clip462)\" cx=\"1050.46\" cy=\"1391.41\" r=\"14\" fill=\"#009af9\" fill-rule=\"evenodd\" fill-opacity=\"1\" stroke=\"#000000\" stroke-opacity=\"1\" stroke-width=\"3.2\"/>\n",
       "<circle clip-path=\"url(#clip462)\" cx=\"1153.82\" cy=\"1432.14\" r=\"14\" fill=\"#009af9\" fill-rule=\"evenodd\" fill-opacity=\"1\" stroke=\"#000000\" stroke-opacity=\"1\" stroke-width=\"3.2\"/>\n",
       "<circle clip-path=\"url(#clip462)\" cx=\"1257.18\" cy=\"1445.72\" r=\"14\" fill=\"#009af9\" fill-rule=\"evenodd\" fill-opacity=\"1\" stroke=\"#000000\" stroke-opacity=\"1\" stroke-width=\"3.2\"/>\n",
       "<circle clip-path=\"url(#clip462)\" cx=\"1360.53\" cy=\"1432.14\" r=\"14\" fill=\"#009af9\" fill-rule=\"evenodd\" fill-opacity=\"1\" stroke=\"#000000\" stroke-opacity=\"1\" stroke-width=\"3.2\"/>\n",
       "<circle clip-path=\"url(#clip462)\" cx=\"1463.89\" cy=\"1391.41\" r=\"14\" fill=\"#009af9\" fill-rule=\"evenodd\" fill-opacity=\"1\" stroke=\"#000000\" stroke-opacity=\"1\" stroke-width=\"3.2\"/>\n",
       "<circle clip-path=\"url(#clip462)\" cx=\"1567.25\" cy=\"1323.52\" r=\"14\" fill=\"#009af9\" fill-rule=\"evenodd\" fill-opacity=\"1\" stroke=\"#000000\" stroke-opacity=\"1\" stroke-width=\"3.2\"/>\n",
       "<circle clip-path=\"url(#clip462)\" cx=\"1670.6\" cy=\"1228.48\" r=\"14\" fill=\"#009af9\" fill-rule=\"evenodd\" fill-opacity=\"1\" stroke=\"#000000\" stroke-opacity=\"1\" stroke-width=\"3.2\"/>\n",
       "<circle clip-path=\"url(#clip462)\" cx=\"1773.96\" cy=\"1106.28\" r=\"14\" fill=\"#009af9\" fill-rule=\"evenodd\" fill-opacity=\"1\" stroke=\"#000000\" stroke-opacity=\"1\" stroke-width=\"3.2\"/>\n",
       "<circle clip-path=\"url(#clip462)\" cx=\"1877.32\" cy=\"956.93\" r=\"14\" fill=\"#009af9\" fill-rule=\"evenodd\" fill-opacity=\"1\" stroke=\"#000000\" stroke-opacity=\"1\" stroke-width=\"3.2\"/>\n",
       "<circle clip-path=\"url(#clip462)\" cx=\"1980.67\" cy=\"780.423\" r=\"14\" fill=\"#009af9\" fill-rule=\"evenodd\" fill-opacity=\"1\" stroke=\"#000000\" stroke-opacity=\"1\" stroke-width=\"3.2\"/>\n",
       "<circle clip-path=\"url(#clip462)\" cx=\"2084.03\" cy=\"576.762\" r=\"14\" fill=\"#009af9\" fill-rule=\"evenodd\" fill-opacity=\"1\" stroke=\"#000000\" stroke-opacity=\"1\" stroke-width=\"3.2\"/>\n",
       "<circle clip-path=\"url(#clip462)\" cx=\"2187.39\" cy=\"345.947\" r=\"14\" fill=\"#009af9\" fill-rule=\"evenodd\" fill-opacity=\"1\" stroke=\"#000000\" stroke-opacity=\"1\" stroke-width=\"3.2\"/>\n",
       "<circle clip-path=\"url(#clip462)\" cx=\"2290.74\" cy=\"87.9763\" r=\"14\" fill=\"#009af9\" fill-rule=\"evenodd\" fill-opacity=\"1\" stroke=\"#000000\" stroke-opacity=\"1\" stroke-width=\"3.2\"/>\n",
       "<path clip-path=\"url(#clip460)\" d=\"\n",
       "M1985.24 216.178 L2279.72 216.178 L2279.72 95.2176 L1985.24 95.2176  Z\n",
       "  \" fill=\"#ffffff\" fill-rule=\"evenodd\" fill-opacity=\"1\"/>\n",
       "<polyline clip-path=\"url(#clip460)\" style=\"stroke:#000000; stroke-width:4; stroke-opacity:1; fill:none\" points=\"\n",
       "  1985.24,216.178 2279.72,216.178 2279.72,95.2176 1985.24,95.2176 1985.24,216.178 \n",
       "  \"/>\n",
       "<circle clip-path=\"url(#clip460)\" cx=\"2082.62\" cy=\"155.698\" r=\"23\" fill=\"#009af9\" fill-rule=\"evenodd\" fill-opacity=\"1\" stroke=\"#000000\" stroke-opacity=\"1\" stroke-width=\"5.12\"/>\n",
       "<path clip-path=\"url(#clip460)\" d=\"M 0 0 M2193.85 175.385 Q2192.04 180.015 2190.33 181.427 Q2188.62 182.839 2185.75 182.839 L2182.34 182.839 L2182.34 179.274 L2184.84 179.274 Q2186.6 179.274 2187.58 178.44 Q2188.55 177.607 2189.73 174.505 L2190.49 172.561 L2180.01 147.052 L2184.52 147.052 L2192.62 167.329 L2200.72 147.052 L2205.24 147.052 L2193.85 175.385 Z\" fill=\"#000000\" fill-rule=\"evenodd\" fill-opacity=\"1\" /><path clip-path=\"url(#clip460)\" d=\"M 0 0 M2211.12 169.042 L2218.76 169.042 L2218.76 142.677 L2210.45 144.343 L2210.45 140.084 L2218.71 138.418 L2223.39 138.418 L2223.39 169.042 L2231.02 169.042 L2231.02 172.978 L2211.12 172.978 L2211.12 169.042 Z\" fill=\"#000000\" fill-rule=\"evenodd\" fill-opacity=\"1\" /></svg>\n"
      ]
     },
     "execution_count": 17,
     "metadata": {},
     "output_type": "execute_result"
    }
   ],
   "source": [
    "graph = [(x, x^2) for x in -10:10]\n",
    "scatter(graph)"
   ]
  },
  {
   "cell_type": "markdown",
   "id": "familiar-charles",
   "metadata": {},
   "source": [
    "### 2.7"
   ]
  },
  {
   "cell_type": "code",
   "execution_count": 18,
   "id": "sealed-foundation",
   "metadata": {},
   "outputs": [
    {
     "data": {
      "text/plain": [
       "add (generic function with 1 method)"
      ]
     },
     "execution_count": 18,
     "metadata": {},
     "output_type": "execute_result"
    }
   ],
   "source": [
    "function add(l::Array{Point, 1})::Point\n",
    "   reduce((x, y) -> x + y, l, init=Point(0,0)) \n",
    "end"
   ]
  },
  {
   "cell_type": "code",
   "execution_count": 19,
   "id": "seventh-documentation",
   "metadata": {},
   "outputs": [
    {
     "data": {
      "text/plain": [
       "Point(6, 6)"
      ]
     },
     "execution_count": 19,
     "metadata": {},
     "output_type": "execute_result"
    }
   ],
   "source": [
    "add([Point(1,1), Point(2,2), Point(3,3)])"
   ]
  },
  {
   "cell_type": "markdown",
   "id": "resident-office",
   "metadata": {},
   "source": [
    "### 2.8"
   ]
  },
  {
   "cell_type": "code",
   "execution_count": 20,
   "id": "uniform-visibility",
   "metadata": {},
   "outputs": [
    {
     "data": {
      "text/plain": [
       "translate (generic function with 1 method)"
      ]
     },
     "execution_count": 20,
     "metadata": {},
     "output_type": "execute_result"
    }
   ],
   "source": [
    "function translate(translation::Point, vectors::Array{Point})\n",
    "    map(x -> x + translation, vectors)\n",
    "end"
   ]
  },
  {
   "cell_type": "code",
   "execution_count": 21,
   "id": "quick-indianapolis",
   "metadata": {},
   "outputs": [
    {
     "data": {
      "text/plain": [
       "3-element Array{Point,1}:\n",
       " Point(1, 1)\n",
       " Point(1, 2)\n",
       " Point(-2, -2)"
      ]
     },
     "execution_count": 21,
     "metadata": {},
     "output_type": "execute_result"
    }
   ],
   "source": [
    "translate(Point(1,1), [Point(0,0), Point(0,1), Point(-3,-3)])"
   ]
  },
  {
   "cell_type": "markdown",
   "id": "atomic-beast",
   "metadata": {},
   "source": [
    "### 2.11"
   ]
  },
  {
   "cell_type": "code",
   "execution_count": 37,
   "id": "novel-electricity",
   "metadata": {},
   "outputs": [
    {
     "data": {
      "text/plain": [
       "test (generic function with 1 method)"
      ]
     },
     "execution_count": 37,
     "metadata": {},
     "output_type": "execute_result"
    }
   ],
   "source": [
    "t1 = 1\n",
    "\n",
    "function test(n)\n",
    "    @match n begin\n",
    "        0 => ( println(\"Eat\"); \"Foo\" )\n",
    "        1 => \"This\"\n",
    "        _ => @match n begin\n",
    "            2 => \"Po-po\"\n",
    "        end\n",
    "    end\n",
    "end"
   ]
  },
  {
   "cell_type": "code",
   "execution_count": 39,
   "id": "small-layout",
   "metadata": {},
   "outputs": [
    {
     "name": "stdout",
     "output_type": "stream",
     "text": [
      "Eat\n"
     ]
    },
    {
     "data": {
      "text/plain": [
       "\"Foo\""
      ]
     },
     "execution_count": 39,
     "metadata": {},
     "output_type": "execute_result"
    }
   ],
   "source": [
    "test(0)"
   ]
  },
  {
   "cell_type": "code",
   "execution_count": 40,
   "id": "valued-idaho",
   "metadata": {},
   "outputs": [
    {
     "data": {
      "text/plain": [
       "plot_dinos (generic function with 1 method)"
      ]
     },
     "execution_count": 40,
     "metadata": {},
     "output_type": "execute_result"
    }
   ],
   "source": [
    "function add_dinos_to_plot!(offset::Point)\n",
    "    dino_tuples = [to_tuple(vec) for vec in translate(offset, dino_vectors)]\n",
    "    dino_quiver_tuples = [to_tuple(vec) for vec in translate(offset, dino_quivers)]\n",
    "    quiver!(dino_tuples, quiver=dino_quiver_tuples)\n",
    "end\n",
    "\n",
    "p_offset = add(dino_vectors)\n",
    "function plot_dinos(num_x, num_y, curr_y, offset)\n",
    "    scatter()\n",
    "    @match num_x begin\n",
    "        0 => nothing\n",
    "        x => @match curr_y begin\n",
    "            0 => plot_dinos(x - 1, num_y, num_y, Point(offset.x, 0))\n",
    "            y => ( add_dinos_to_plot(offset); plot_dinos(x, num_y, y-1, offset + Point(x_dist, 0)))\n",
    "        end\n",
    "    end\n",
    "end\n",
    "            \n",
    "plot_dinos(10, 10, 10, p_offset)"
   ]
  },
  {
   "cell_type": "code",
   "execution_count": null,
   "id": "little-murder",
   "metadata": {},
   "outputs": [],
   "source": []
  }
 ],
 "metadata": {
  "kernelspec": {
   "display_name": "Julia 1.5.3",
   "language": "julia",
   "name": "julia-1.5"
  },
  "language_info": {
   "file_extension": ".jl",
   "mimetype": "application/julia",
   "name": "julia",
   "version": "1.5.3"
  }
 },
 "nbformat": 4,
 "nbformat_minor": 5
}
